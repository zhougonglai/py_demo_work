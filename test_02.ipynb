{
 "cells": [
  {
   "cell_type": "code",
   "execution_count": 1,
   "source": [
    "import numpy as np\n",
    "\n",
    "a = np.array([1,3,5,7])\n",
    "\n",
    "print(a)\n",
    "\n",
    "o = np.zeros(4)\n",
    "\n",
    "print(o)"
   ],
   "outputs": [
    {
     "output_type": "stream",
     "name": "stdout",
     "text": [
      "[1 3 5 7]\n",
      "[0. 0. 0. 0.]\n"
     ]
    }
   ],
   "metadata": {}
  },
  {
   "cell_type": "code",
   "execution_count": 4,
   "source": [
    "import numpy as np\n",
    "\n",
    "class Perceptron:\n",
    "    \"\"\"\n",
    "    eta: 学习率\n",
    "    n_iter: 训练次数\n",
    "    w_: 神经分叉权重向量\n",
    "    errors_: 记录神经元判断错误率\n",
    "    \"\"\"\n",
    "    def __init__(self, eta = 0.01, n_iter=10):\n",
    "        self.eta = eta\n",
    "        self.n_iter = n_iter\n",
    "        pass\n",
    "    \n",
    "    \"\"\"\n",
    "    输入训练数据, 培训神经元, X输入样本向量, y对应样本分类\n",
    "    \n",
    "    X:shape[n_samples, n_features]    [[1,2,3], [4,5,6]]\n",
    "    n_samples: 2\n",
    "    n_features: 3\n",
    "    \n",
    "    y: [1, -1]\n",
    "    初始化权重向量为0\n",
    "    加一是因为前面算法提到的w0，也就是步调函数阈值\n",
    "    \"\"\"\n",
    "    def fit(self, X, y):\n",
    "        self.w_ = np.zero(1 + X.shape[1]);\n",
    "        self.errors_ = []\n",
    "        \n",
    "        for _ in range(self.n_iter):\n",
    "            errors = 0\n",
    "            \"\"\"\n",
    "            X: [[1,2,3], [4,5,6]]\n",
    "            y: [1, -1]\n",
    "            zip(X,y) = [[1,2,3,1], [4,5,6, -1]]\n",
    "            \n",
    "            \"\"\"\n",
    "            for xi, target in zip(X,y):\n",
    "                \"\"\"\n",
    "                update = Ω * (Y - y')\n",
    "                \"\"\"\n",
    "                update = self.eta * (target - self.predict(xi))\n",
    "                \n",
    "                \"\"\"\n",
    "                xi 是一个向量\n",
    "                update * xi 等价:\n",
    "                \n",
    "                \"\"\"\n",
    "                self.w_[1:] += update * xi\n",
    "                self.w_[0] += update\n",
    "                \n",
    "                errors += int(update != 0.0)\n",
    "                self.errors_.append(errors)\n",
    "                pass\n",
    "            pass\n",
    "        \n",
    "        def net_input(self, X):\n",
    "            return np.dot(X, self.w_[1:]) + self.w_[0]\n",
    "        \n",
    "        def predict(self, X):\n",
    "            return np.where(self.net_input(X) >= 0.0 , 1, -1)\n",
    "        pass\n",
    "    "
   ],
   "outputs": [],
   "metadata": {}
  },
  {
   "cell_type": "code",
   "execution_count": null,
   "source": [],
   "outputs": [],
   "metadata": {}
  }
 ],
 "metadata": {
  "kernelspec": {
   "name": "python3",
   "display_name": "Python 3.8.5 64-bit (conda)"
  },
  "language_info": {
   "name": "python",
   "version": "3.8.5",
   "mimetype": "text/x-python",
   "codemirror_mode": {
    "name": "ipython",
    "version": 3
   },
   "pygments_lexer": "ipython3",
   "nbconvert_exporter": "python",
   "file_extension": ".py"
  },
  "interpreter": {
   "hash": "80738e28ecbec9c85f724203c596ca196ce0838ab79b17b6719673808a9ec543"
  }
 },
 "nbformat": 4,
 "nbformat_minor": 5
}