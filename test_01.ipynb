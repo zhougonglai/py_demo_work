{
 "cells": [
  {
   "cell_type": "code",
   "execution_count": 2,
   "id": "2bac0b58",
   "metadata": {},
   "outputs": [],
   "source": [
    "class StackIterator:\n",
    "    def __init__(self, s):\n",
    "        self.stack = s\n",
    "        self.cursor = self.stack.head\n",
    "\n",
    "    def __next__(self):\n",
    "        if self.cursor is None:\n",
    "            raise StopIteration\n",
    "        else:\n",
    "            item = self.cursor.item\n",
    "            self.cursor = self.cursor.next\n",
    "            return item\n"
   ]
  },
  {
   "cell_type": "code",
   "execution_count": 3,
   "id": "b987b1ed",
   "metadata": {},
   "outputs": [],
   "source": [
    "class Node:\n",
    "    def __init__(self, item):\n",
    "        self.item = item\n",
    "        self.next = None\n",
    "\n",
    "class Stack:\n",
    "    def __init__(self):\n",
    "        self.head = None\n",
    "    def __iter__(self):\n",
    "        return StackIterator(self)\n",
    "\n",
    "    def push(self, item):\n",
    "        node = Node(item)\n",
    "        node.next = self.head\n",
    "        self.head = node\n",
    "\n",
    "stack = Stack()\n",
    "stack.push('a')\n",
    "stack.push('b')\n",
    "stack.push('c')\n"
   ]
  },
  {
   "cell_type": "code",
   "execution_count": 4,
   "id": "1b2a7259",
   "metadata": {},
   "outputs": [
    {
     "name": "stdout",
     "output_type": "stream",
     "text": [
      "c\n",
      "b\n",
      "a\n"
     ]
    }
   ],
   "source": [
    "stackIterator = iter(stack)\n",
    "while True:\n",
    "    try:\n",
    "        item = next(stackIterator)\n",
    "        print(item)\n",
    "    except StopIteration:\n",
    "        break\n"
   ]
  },
  {
   "cell_type": "code",
   "execution_count": 5,
   "id": "3fe60004",
   "metadata": {
    "pycharm": {
     "name": "#%%\n"
    }
   },
   "outputs": [
    {
     "name": "stdout",
     "output_type": "stream",
     "text": [
      "c\n",
      "b\n",
      "a\n"
     ]
    }
   ],
   "source": [
    "for item in stack:\n",
    "    print(item)\n",
    "\n"
   ]
  }
 ],
 "metadata": {
  "interpreter": {
   "hash": "02897fe0420d262016bf16d9213e605c9d3f4f8f9cae28d960f025c4fac984f0"
  },
  "kernelspec": {
   "display_name": "Python 3",
   "language": "python",
   "name": "python3"
  },
  "language_info": {
   "codemirror_mode": {
    "name": "ipython",
    "version": 3
   },
   "file_extension": ".py",
   "mimetype": "text/x-python",
   "name": "python",
   "nbconvert_exporter": "python",
   "pygments_lexer": "ipython3",
   "version": "3.8.8"
  }
 },
 "nbformat": 4,
 "nbformat_minor": 5
}