{
 "cells": [
  {
   "cell_type": "code",
   "execution_count": 2,
   "source": [
    "class StackIterator:\n",
    "    def __init__(self, s):\n",
    "        self.stack = s\n",
    "        self.cursor = self.stack.head\n",
    "\n",
    "    def __next__(self):\n",
    "        if self.cursor is None:\n",
    "            raise StopIteration\n",
    "        else:\n",
    "            item = self.cursor.item\n",
    "            self.cursor = self.cursor.next\n",
    "            return item\n"
   ],
   "outputs": [],
   "metadata": {}
  },
  {
   "cell_type": "code",
   "execution_count": 3,
   "source": [
    "class Node:\n",
    "    def __init__(self, item):\n",
    "        self.item = item\n",
    "        self.next = None\n",
    "\n",
    "class Stack:\n",
    "    def __init__(self):\n",
    "        self.head = None\n",
    "    def __iter__(self):\n",
    "        return StackIterator(self)\n",
    "\n",
    "    def push(self, item):\n",
    "        node = Node(item)\n",
    "        node.next = self.head\n",
    "        self.head = node\n",
    "\n",
    "stack = Stack()\n",
    "stack.push('a')\n",
    "stack.push('b')\n",
    "stack.push('c')\n"
   ],
   "outputs": [],
   "metadata": {}
  },
  {
   "cell_type": "code",
   "execution_count": 4,
   "source": [
    "stackIterator = iter(stack)\n",
    "while True:\n",
    "    try:\n",
    "        item = next(stackIterator)\n",
    "        print(item)\n",
    "    except StopIteration:\n",
    "        break\n"
   ],
   "outputs": [
    {
     "output_type": "stream",
     "name": "stdout",
     "text": [
      "c\n",
      "b\n",
      "a\n"
     ]
    }
   ],
   "metadata": {}
  },
  {
   "cell_type": "code",
   "execution_count": 5,
   "source": [
    "for item in stack:\n",
    "    print(item)\n",
    "\n"
   ],
   "outputs": [
    {
     "output_type": "stream",
     "name": "stdout",
     "text": [
      "c\n",
      "b\n",
      "a\n"
     ]
    }
   ],
   "metadata": {
    "pycharm": {
     "name": "#%%\n"
    }
   }
  },
  {
   "cell_type": "code",
   "execution_count": 1,
   "source": [
    "for i in range(3):\n",
    "  if i == 1:\n",
    "    break\n",
    "  print(i)"
   ],
   "outputs": [
    {
     "output_type": "stream",
     "name": "stdout",
     "text": [
      "0\n"
     ]
    }
   ],
   "metadata": {}
  },
  {
   "cell_type": "code",
   "execution_count": 6,
   "source": [
    "a = range(1,3)\n",
    "for i in a:\n",
    "  print(i)"
   ],
   "outputs": [
    {
     "output_type": "stream",
     "name": "stdout",
     "text": [
      "1\n",
      "2\n"
     ]
    }
   ],
   "metadata": {}
  },
  {
   "cell_type": "code",
   "execution_count": 11,
   "source": [
    "n = 0\n",
    "for i in range(100):\n",
    "  if i % 2 == 0:\n",
    "    n = n - i\n",
    "  else:\n",
    "    n = n + i\n",
    "print(n)"
   ],
   "outputs": [
    {
     "output_type": "stream",
     "name": "stdout",
     "text": [
      "50\n"
     ]
    }
   ],
   "metadata": {}
  },
  {
   "cell_type": "code",
   "execution_count": 10,
   "source": [],
   "outputs": [],
   "metadata": {}
  },
  {
   "cell_type": "code",
   "execution_count": null,
   "source": [],
   "outputs": [],
   "metadata": {}
  }
 ],
 "metadata": {
  "interpreter": {
   "hash": "02897fe0420d262016bf16d9213e605c9d3f4f8f9cae28d960f025c4fac984f0"
  },
  "kernelspec": {
   "name": "python3",
   "display_name": "Python 3.8.8 64-bit ('base': conda)"
  },
  "language_info": {
   "codemirror_mode": {
    "name": "ipython",
    "version": 3
   },
   "file_extension": ".py",
   "mimetype": "text/x-python",
   "name": "python",
   "nbconvert_exporter": "python",
   "pygments_lexer": "ipython3",
   "version": "3.8.8"
  }
 },
 "nbformat": 4,
 "nbformat_minor": 5
}